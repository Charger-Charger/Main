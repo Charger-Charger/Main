{
 "cells": [
  {
   "cell_type": "markdown",
   "metadata": {},
   "source": [
    "# 한국환경공단_전기자동차 충전소 정보\n",
    "https://www.data.go.kr/data/15076352/openapi.do\n",
    "\n",
    "주피터 노트북에서 실행할 것"
   ]
  },
  {
   "cell_type": "code",
   "execution_count": null,
   "metadata": {},
   "outputs": [],
   "source": [
    "import requests\n",
    "from bs4 import BeautifulSoup\n",
    "import pandas as pd\n",
    "\n",
    "url = \"http://apis.data.go.kr/B552584/EvCharger/getChargerInfo?\"\n",
    "serviceKey = \"serviceKey=mBbrpuZb9sfRYEk1fkjLZkFxFj21Hf8qUw3oabBq4qEcqvTthVYR7CI7RPIiuX5Qu5mw654qnFOgx9KSlYasRQ%3D%3D\"\n",
    "\n",
    "numOfRows = \"&numOfRows=10\"\n",
    "\n",
    "result = requests.get(url+serviceKey+numOfRows+\"&pageNo=1\")\n",
    "\n",
    "soup = BeautifulSoup(result.text,'lxml-xml')\n",
    "items = soup.find_all(\"item\")\n",
    "\n",
    "print(items)"
   ]
  }
 ],
 "metadata": {
  "kernelspec": {
   "display_name": "Python 3 (ipykernel)",
   "language": "python",
   "name": "python3"
  },
  "language_info": {
   "codemirror_mode": {
    "name": "ipython",
    "version": 3
   },
   "file_extension": ".py",
   "mimetype": "text/x-python",
   "name": "python",
   "nbconvert_exporter": "python",
   "pygments_lexer": "ipython3",
   "version": "3.9.7"
  },
  "vscode": {
   "interpreter": {
    "hash": "df95319d8ce4e1d89f5365ae10992bc1f65da593082b1d264e8f529830ec2f02"
   }
  }
 },
 "nbformat": 4,
 "nbformat_minor": 2
}
